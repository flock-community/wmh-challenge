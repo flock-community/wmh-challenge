{
 "cells": [
  {
   "cell_type": "markdown",
   "metadata": {},
   "source": [
    "# 2D Image Segmentation of MRI scans\n",
    "\n",
    "Steps:\n",
    "1. Get dataset\n",
    "1. Preprocess 2D images\n",
    "    1. do a\n",
    "    1. do b\n",
    "1. Split dataset into train/val(/test) set\n",
    "1. Setup a model\n",
    "1. Set training and model parameters\n",
    "1. Train model\n",
    "1. Validate result\n"
   ]
  },
  {
   "cell_type": "markdown",
   "metadata": {},
   "source": [
    "## Get dataset\n"
   ]
  },
  {
   "cell_type": "code",
   "execution_count": 18,
   "metadata": {},
   "outputs": [
    {
     "name": "stdout",
     "output_type": "stream",
     "text": [
      "Collecting natsort\n",
      "  Downloading https://files.pythonhosted.org/packages/e7/13/a66bfa0ebf00e17778ca0319d081be686a33384d1f612fc8e0fc542ac5d8/natsort-6.0.0-py2.py3-none-any.whl\n",
      "Installing collected packages: natsort\n",
      "Successfully installed natsort-6.0.0\n"
     ]
    }
   ],
   "source": [
    "!pip3 install natsort"
   ]
  },
  {
   "cell_type": "code",
   "execution_count": 19,
   "metadata": {},
   "outputs": [],
   "source": [
    "import os\n",
    "import random\n",
    "import re\n",
    "from PIL import Image\n",
    "from pathlib import Path\n",
    "\n",
    "DATASET = \"/Amsterdam_GE3T\"\n",
    "DATA_PATH = 'data_2d' + DATASET\n",
    "SCAN_TYPE = 'T1'\n",
    "FRAME_PATH = DATA_PATH\n",
    "MASK_PATH = DATA_PATH\n",
    "\n",
    "# Data path\n",
    "# data_2d/<dataset>/<scan_id>/\n",
    "# data_2d/<dataset>/<scan_id>/wmh_<slice_id>.tif\n",
    "# data_2d/<dataset>/<scan_id>/orig/3DT1_<slice_id>.tif\n",
    "# data_2d/<dataset>/<scan_id>/orig/T1_<slice_id>.tif\n",
    "# data_2d/<dataset>/<scan_id>/orig/FLAIR_<slice_id>.tif\n",
    "# data_2d/<dataset>/<scan_id>/pre/3DT1_<slice_id>.tif\n",
    "# data_2d/<dataset>/<scan_id>/pre/T1_<slice_id>.tif\n",
    "# data_2d/<dataset>/<scan_id>/pre/FLAIR_<slice_id>.tif\n",
    "\n",
    "\n",
    "# Create folders to hold images and masks\n",
    "\n",
    "folders = ['train_frames', 'train_masks', 'val_frames', 'val_masks', 'test_frames', 'test_masks']\n",
    "\n",
    "\n",
    "# for folder in folders:\n",
    "#       os.makedirs(DATA_PATH + folder)\n",
    "\n",
    "\n",
    "# Get all frames and masks, sort them, shuffle them to generate data sets.\n",
    "\n",
    "''' Recursively find all Images from a filepath matching the description \n",
    "\n",
    "    @return tuple (frames, masks) with list of all frames an accompanying mask\n",
    "'''\n",
    "def getAllImages(dataPath, scanType = \"T1\", preprocessed=True):\n",
    "    if preprocessed:\n",
    "        imageType = 'pre'\n",
    "    else:\n",
    "        imageType = 'orig'\n",
    "    \n",
    "    frameExpression = '**/{}/{}*.tiff'.format(imageType, scanType)\n",
    "    maskExpression = '**/wmh_*.tiff' \n",
    "    a =  Path(DATA_PATH).glob(frameExpression)\n",
    "    b =  Path(DATA_PATH).glob(maskExpression)\n",
    "\n",
    "    while True:\n",
    "        yield next(a), next(b)\n",
    "    \n",
    "    \n",
    "    \n",
    "# all_frames = os.listdir(FRAME_PATH)\n",
    "# for frame in Path(DATA_PATH).glob('**/pre/{}*.tif'.format(SCAN_TYPE)):\n",
    "#     print(frame)\n",
    "\n",
    "# all_masks = os.listdir(MASK_PATH)"
   ]
  },
  {
   "cell_type": "code",
   "execution_count": 34,
   "metadata": {},
   "outputs": [
    {
     "name": "stderr",
     "output_type": "stream",
     "text": [
      "/usr/local/lib/python3.6/dist-packages/ipykernel_launcher.py:2: DeprecationWarning: generator 'getAllImages' raised StopIteration\n",
      "  \n",
      "/usr/local/lib/python3.6/dist-packages/ipykernel_launcher.py:4: DeprecationWarning: generator 'getAllImages' raised StopIteration\n",
      "  after removing the cwd from sys.path.\n"
     ]
    }
   ],
   "source": [
    "a = getAllImages(DATA_PATH)\n",
    "all_frames = [str(x) for (x,_) in getAllImages(DATA_PATH) if 'checkpoint' not in str(x) ]\n",
    "\n",
    "all_masks = [str(x) for (_,x) in getAllImages(DATA_PATH) if 'checkpoint' not in str(x)] \n",
    "\n",
    "from natsort import natsorted, ns\n",
    "all_frames = natsorted(all_frames, alg=ns.IGNORECASE)\n",
    "all_masks = natsorted(all_masks, alg=ns.IGNORECASE)"
   ]
  },
  {
   "cell_type": "code",
   "execution_count": 54,
   "metadata": {},
   "outputs": [
    {
     "name": "stdout",
     "output_type": "stream",
     "text": [
      "1020\n",
      "1020\n",
      "Random entry in data:\n",
      "frame data_2d/Amsterdam_GE3T/105/pre/T1_45.tiff, mask  data_2d/Amsterdam_GE3T/105/wmh_45.tiff\n",
      "Random entry in data:\n",
      "frame data_2d/Amsterdam_GE3T/126/pre/T1_28.tiff, mask  data_2d/Amsterdam_GE3T/126/wmh_28.tiff\n",
      "Random entry in data:\n",
      "frame data_2d/Amsterdam_GE3T/132/pre/T1_39.tiff, mask  data_2d/Amsterdam_GE3T/132/wmh_39.tiff\n",
      "Random entry in data:\n",
      "frame data_2d/Amsterdam_GE3T/100/pre/T1_22.tiff, mask  data_2d/Amsterdam_GE3T/100/wmh_22.tiff\n",
      "Random entry in data:\n",
      "frame data_2d/Amsterdam_GE3T/116/pre/T1_28.tiff, mask  data_2d/Amsterdam_GE3T/116/wmh_28.tiff\n",
      "Random entry in data:\n",
      "frame data_2d/Amsterdam_GE3T/126/pre/T1_25.tiff, mask  data_2d/Amsterdam_GE3T/126/wmh_25.tiff\n",
      "Random entry in data:\n",
      "frame data_2d/Amsterdam_GE3T/103/pre/T1_26.tiff, mask  data_2d/Amsterdam_GE3T/103/wmh_26.tiff\n",
      "Random entry in data:\n",
      "frame data_2d/Amsterdam_GE3T/115/pre/T1_16.tiff, mask  data_2d/Amsterdam_GE3T/115/wmh_16.tiff\n",
      "Random entry in data:\n",
      "frame data_2d/Amsterdam_GE3T/108/pre/T1_40.tiff, mask  data_2d/Amsterdam_GE3T/108/wmh_40.tiff\n",
      "Random entry in data:\n",
      "frame data_2d/Amsterdam_GE3T/106/pre/T1_58.tiff, mask  data_2d/Amsterdam_GE3T/106/wmh_58.tiff\n"
     ]
    }
   ],
   "source": [
    "print(len(all_frames))\n",
    "print(len(all_masks))\n",
    "arr = [random.randint(0,len(all_frames)) for _ in range(10)]\n",
    "for i in arr:\n",
    "    print('Random entry in data:')\n",
    "    print(f'frame {all_frames[i]}, mask  {all_masks[i]}')\n",
    "\n",
    "\n",
    "   "
   ]
  },
  {
   "cell_type": "code",
   "execution_count": 58,
   "metadata": {},
   "outputs": [
    {
     "data": {
      "text/plain": [
       "10"
      ]
     },
     "execution_count": 58,
     "metadata": {},
     "output_type": "execute_result"
    }
   ],
   "source": [
    "# all_frames.sort(key=lambda var:[int(x) if x.isdigit() else x \n",
    "#                                 for x in re.findall(r'[^0-9]|[0-9]+', var)])\n",
    "# all_masks.sort(key=lambda var:[int(x) if x.isdigit() else x \n",
    "#                                for x in re.findall(r'[^0-9]|[0-9]+', var)])\n",
    "# for i in range(10):\n",
    "#     print(all_frames[i])\n",
    "#     print(all_masks[i])\n",
    "#     print()\n",
    "\n",
    "# Get all indices     \n",
    "idxs = [x for x in range(len(all_frames))]\n"
   ]
  },
  {
   "cell_type": "markdown",
   "metadata": {},
   "source": [
    "## Split dataset into train, val and testset"
   ]
  },
  {
   "cell_type": "code",
   "execution_count": 63,
   "metadata": {},
   "outputs": [],
   "source": [
    "random.seed(230)\n",
    "random.shuffle(idxs)\n",
    "\n",
    "# Generate train, val, and test sets for frames\n",
    "\n",
    "train_ratio = 0.7\n",
    "val_ratio = 0.2\n",
    "test_ratio = 0.1\n",
    "\n",
    "\n",
    "train_split = int(0.7*len(all_frames))\n",
    "val_split = int(0.9 * len(all_frames))\n",
    "\n",
    "train_idxs = idxs[:train_split]\n",
    "val_idxs = idxs[train_split:val_split]\n",
    "test_idxs = idxs[val_split:]"
   ]
  },
  {
   "cell_type": "code",
   "execution_count": 74,
   "metadata": {},
   "outputs": [],
   "source": [
    "# Get corresponding frames\n",
    "train_frames = [all_frames[idx] for idx in train_idxs]\n",
    "val_frames = [all_frames[idx] for idx in val_idxs]\n",
    "test_frames = [all_frames[idx] for idx in test_idxs]\n",
    "\n",
    "# Get corresponding masks\n",
    "train_masks = [all_masks[idx] for idx in train_idxs]\n",
    "val_masks = [all_masks[idx] for idx in val_idxs]\n",
    "test_masks = [all_masks[idx] for idx in test_idxs]\n"
   ]
  },
  {
   "cell_type": "code",
   "execution_count": 75,
   "metadata": {},
   "outputs": [
    {
     "name": "stdout",
     "output_type": "stream",
     "text": [
      "715\n",
      "data_2d/Amsterdam_GE3T/115/pre/T1_17.tiff\n",
      "data_2d/Amsterdam_GE3T/115/pre/T1_17.tiff\n",
      "data_2d/Amsterdam_GE3T/115/wmh_17.tiff\n",
      "data_2d/Amsterdam_GE3T/115/wmh_17.tiff\n"
     ]
    }
   ],
   "source": [
    "x= 100\n",
    "print(idxs[x])\n",
    "print(all_frames[idxs[x]])\n",
    "print(train_frames[x])\n",
    "print(all_masks[idxs[x]])\n",
    "print(train_masks[x])"
   ]
  },
  {
   "cell_type": "code",
   "execution_count": 58,
   "metadata": {},
   "outputs": [
    {
     "ename": "FileNotFoundError",
     "evalue": "[Errno 2] No such file or directory: 'data_2d/Amsterdam_GE3Tdata_2d/Amsterdam_GE3T/107/pre/T1_53.tif'",
     "output_type": "error",
     "traceback": [
      "\u001b[0;31m---------------------------------------------------------------------------\u001b[0m",
      "\u001b[0;31mFileNotFoundError\u001b[0m                         Traceback (most recent call last)",
      "\u001b[0;32m<ipython-input-58-adfa7e770834>\u001b[0m in \u001b[0;36m<module>\u001b[0;34m\u001b[0m\n\u001b[1;32m     28\u001b[0m     \u001b[0mname\u001b[0m \u001b[0;34m=\u001b[0m \u001b[0;34m[\u001b[0m\u001b[0mfolder\u001b[0m\u001b[0;34m[\u001b[0m\u001b[0;36m1\u001b[0m\u001b[0;34m]\u001b[0m\u001b[0;34m]\u001b[0m \u001b[0;34m*\u001b[0m \u001b[0mlen\u001b[0m\u001b[0;34m(\u001b[0m\u001b[0marray\u001b[0m\u001b[0;34m)\u001b[0m\u001b[0;34m\u001b[0m\u001b[0;34m\u001b[0m\u001b[0m\n\u001b[1;32m     29\u001b[0m \u001b[0;34m\u001b[0m\u001b[0m\n\u001b[0;32m---> 30\u001b[0;31m     \u001b[0mlist\u001b[0m\u001b[0;34m(\u001b[0m\u001b[0mmap\u001b[0m\u001b[0;34m(\u001b[0m\u001b[0madd_frames\u001b[0m\u001b[0;34m,\u001b[0m \u001b[0mname\u001b[0m\u001b[0;34m,\u001b[0m \u001b[0marray\u001b[0m\u001b[0;34m)\u001b[0m\u001b[0;34m)\u001b[0m\u001b[0;34m\u001b[0m\u001b[0;34m\u001b[0m\u001b[0m\n\u001b[0m\u001b[1;32m     31\u001b[0m \u001b[0;34m\u001b[0m\u001b[0m\n\u001b[1;32m     32\u001b[0m \u001b[0;34m\u001b[0m\u001b[0m\n",
      "\u001b[0;32m<ipython-input-58-adfa7e770834>\u001b[0m in \u001b[0;36madd_frames\u001b[0;34m(dir_name, image)\u001b[0m\n\u001b[1;32m      4\u001b[0m \u001b[0;32mdef\u001b[0m \u001b[0madd_frames\u001b[0m\u001b[0;34m(\u001b[0m\u001b[0mdir_name\u001b[0m\u001b[0;34m,\u001b[0m \u001b[0mimage\u001b[0m\u001b[0;34m)\u001b[0m\u001b[0;34m:\u001b[0m\u001b[0;34m\u001b[0m\u001b[0;34m\u001b[0m\u001b[0m\n\u001b[1;32m      5\u001b[0m \u001b[0;34m\u001b[0m\u001b[0m\n\u001b[0;32m----> 6\u001b[0;31m     \u001b[0mimg\u001b[0m \u001b[0;34m=\u001b[0m \u001b[0mImage\u001b[0m\u001b[0;34m.\u001b[0m\u001b[0mopen\u001b[0m\u001b[0;34m(\u001b[0m\u001b[0mFRAME_PATH\u001b[0m\u001b[0;34m+\u001b[0m\u001b[0mimage\u001b[0m\u001b[0;34m)\u001b[0m\u001b[0;34m\u001b[0m\u001b[0;34m\u001b[0m\u001b[0m\n\u001b[0m\u001b[1;32m      7\u001b[0m     \u001b[0mimg\u001b[0m\u001b[0;34m.\u001b[0m\u001b[0msave\u001b[0m\u001b[0;34m(\u001b[0m\u001b[0mDATA_PATH\u001b[0m\u001b[0;34m+\u001b[0m\u001b[0;34m'/{}'\u001b[0m\u001b[0;34m.\u001b[0m\u001b[0mformat\u001b[0m\u001b[0;34m(\u001b[0m\u001b[0mdir_name\u001b[0m\u001b[0;34m)\u001b[0m\u001b[0;34m+\u001b[0m\u001b[0;34m'/'\u001b[0m\u001b[0;34m+\u001b[0m\u001b[0mimage\u001b[0m\u001b[0;34m)\u001b[0m\u001b[0;34m\u001b[0m\u001b[0;34m\u001b[0m\u001b[0m\n\u001b[1;32m      8\u001b[0m \u001b[0;34m\u001b[0m\u001b[0m\n",
      "\u001b[0;32m/usr/local/lib/python3.6/dist-packages/PIL/Image.py\u001b[0m in \u001b[0;36mopen\u001b[0;34m(fp, mode)\u001b[0m\n\u001b[1;32m   2632\u001b[0m \u001b[0;34m\u001b[0m\u001b[0m\n\u001b[1;32m   2633\u001b[0m     \u001b[0;32mif\u001b[0m \u001b[0mfilename\u001b[0m\u001b[0;34m:\u001b[0m\u001b[0;34m\u001b[0m\u001b[0;34m\u001b[0m\u001b[0m\n\u001b[0;32m-> 2634\u001b[0;31m         \u001b[0mfp\u001b[0m \u001b[0;34m=\u001b[0m \u001b[0mbuiltins\u001b[0m\u001b[0;34m.\u001b[0m\u001b[0mopen\u001b[0m\u001b[0;34m(\u001b[0m\u001b[0mfilename\u001b[0m\u001b[0;34m,\u001b[0m \u001b[0;34m\"rb\"\u001b[0m\u001b[0;34m)\u001b[0m\u001b[0;34m\u001b[0m\u001b[0;34m\u001b[0m\u001b[0m\n\u001b[0m\u001b[1;32m   2635\u001b[0m         \u001b[0mexclusive_fp\u001b[0m \u001b[0;34m=\u001b[0m \u001b[0;32mTrue\u001b[0m\u001b[0;34m\u001b[0m\u001b[0;34m\u001b[0m\u001b[0m\n\u001b[1;32m   2636\u001b[0m \u001b[0;34m\u001b[0m\u001b[0m\n",
      "\u001b[0;31mFileNotFoundError\u001b[0m: [Errno 2] No such file or directory: 'data_2d/Amsterdam_GE3Tdata_2d/Amsterdam_GE3T/107/pre/T1_53.tif'"
     ]
    }
   ],
   "source": [
    "#Add train, val, test frames and masks to relevant folders\n",
    "\n",
    "\n",
    "def add_frames(dir_name, image):\n",
    "  \n",
    "    img = Image.open(FRAME_PATH+image)\n",
    "    img.save(DATA_PATH+'/{}'.format(dir_name)+'/'+image)\n",
    "  \n",
    "  \n",
    "\n",
    "def add_masks(dir_name, image):  \n",
    "    img = Image.open(MASK_PATH+image)\n",
    "    img.save(DATA_PATH+'/{}'.format(dir_name)+'/'+image)\n",
    "\n",
    "\n",
    "  \n",
    "  \n",
    "frame_folders = [(train_frames, 'train_frames'), (val_frames, 'val_frames'), \n",
    "                 (test_frames, 'test_frames')]\n",
    "\n",
    "mask_folders = [(train_masks, 'train_masks'), (val_masks, 'val_masks'), \n",
    "                (test_masks, 'test_masks')]\n",
    "\n",
    "# Add frames\n",
    "\n",
    "for folder in frame_folders:\n",
    "    array = folder[0]\n",
    "    name = [folder[1]] * len(array)\n",
    "\n",
    "    list(map(add_frames, name, array))\n",
    "         \n",
    "    \n",
    "# Add masks\n",
    "\n",
    "for folder in mask_folders:\n",
    "    array = folder[0]\n",
    "    name = [folder[1]] * len(array)\n",
    "    \n",
    "    list(map(add_masks, name, array))"
   ]
  },
  {
   "cell_type": "code",
   "execution_count": null,
   "metadata": {},
   "outputs": [],
   "source": []
  }
 ],
 "metadata": {
  "kernelspec": {
   "display_name": "Python 3",
   "language": "python",
   "name": "python3"
  },
  "language_info": {
   "codemirror_mode": {
    "name": "ipython",
    "version": 3
   },
   "file_extension": ".py",
   "mimetype": "text/x-python",
   "name": "python",
   "nbconvert_exporter": "python",
   "pygments_lexer": "ipython3",
   "version": "3.6.7"
  }
 },
 "nbformat": 4,
 "nbformat_minor": 2
}
