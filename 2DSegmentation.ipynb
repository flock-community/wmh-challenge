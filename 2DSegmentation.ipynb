{
 "cells": [
  {
   "cell_type": "markdown",
   "metadata": {},
   "source": [
    "# 2D Image Segmentation of MRI scans\n",
    "\n",
    "Steps:\n",
    "1. Get dataset\n",
    "1. Preprocess 2D images\n",
    "    1. do a\n",
    "    1. do b\n",
    "1. Split dataset into train/val(/test) set\n",
    "1. Setup a model\n",
    "1. Set training and model parameters\n",
    "1. Train model\n",
    "1. Validate result\n"
   ]
  },
  {
   "cell_type": "markdown",
   "metadata": {},
   "source": [
    "## Get dataset\n"
   ]
  },
  {
   "cell_type": "code",
   "execution_count": 45,
   "metadata": {},
   "outputs": [],
   "source": [
    "import os\n",
    "import random\n",
    "import re\n",
    "from PIL import Image\n",
    "from pathlib import Path\n",
    "\n",
    "DATASET = \"/Amsterdam_GE3T\"\n",
    "DATA_PATH = 'data_2d' + DATASET\n",
    "SCAN_TYPE = 'T1'\n",
    "FRAME_PATH = DATA_PATH\n",
    "MASK_PATH = DATA_PATH\n",
    "\n",
    "# Data path\n",
    "# data_2d/<dataset>/<scan_id>/\n",
    "# data_2d/<dataset>/<scan_id>/wmh_<slice_id>.tif\n",
    "# data_2d/<dataset>/<scan_id>/orig/3DT1_<slice_id>.tif\n",
    "# data_2d/<dataset>/<scan_id>/orig/T1_<slice_id>.tif\n",
    "# data_2d/<dataset>/<scan_id>/orig/FLAIR_<slice_id>.tif\n",
    "# data_2d/<dataset>/<scan_id>/pre/3DT1_<slice_id>.tif\n",
    "# data_2d/<dataset>/<scan_id>/pre/T1_<slice_id>.tif\n",
    "# data_2d/<dataset>/<scan_id>/pre/FLAIR_<slice_id>.tif\n",
    "\n",
    "\n",
    "# Create folders to hold images and masks\n",
    "\n",
    "folders = ['train_frames', 'train_masks', 'val_frames', 'val_masks', 'test_frames', 'test_masks']\n",
    "\n",
    "\n",
    "# for folder in folders:\n",
    "#       os.makedirs(DATA_PATH + folder)\n",
    "\n",
    "\n",
    "# Get all frames and masks, sort them, shuffle them to generate data sets.\n",
    "\n",
    "''' Recursively find all Images from a filepath matching the description \n",
    "\n",
    "    @return tuple (frames, masks) with list of all frames an accompanying mask\n",
    "'''\n",
    "def getAllImages(dataPath, scanType = \"T1\", preprocessed=True):\n",
    "    if preprocessed:\n",
    "        imageType = 'pre'\n",
    "    else:\n",
    "        imageType = 'orig'\n",
    "    \n",
    "    frameExpression = '**/{}/{}*.tif'.format(imageType, scanType)\n",
    "    maskExpression = '**/wmh_*.tif' \n",
    "    a =  Path(DATA_PATH).glob(frameExpression)\n",
    "    b =  Path(DATA_PATH).glob(maskExpression)\n",
    "\n",
    "    while True:\n",
    "        yield next(a), next(b)\n",
    "    \n",
    "    \n",
    "    \n",
    "# all_frames = os.listdir(FRAME_PATH)\n",
    "# for frame in Path(DATA_PATH).glob('**/pre/{}*.tif'.format(SCAN_TYPE)):\n",
    "#     print(frame)\n",
    "\n",
    "# all_masks = os.listdir(MASK_PATH)"
   ]
  },
  {
   "cell_type": "code",
   "execution_count": 54,
   "metadata": {},
   "outputs": [
    {
     "name": "stderr",
     "output_type": "stream",
     "text": [
      "/usr/local/lib/python3.6/dist-packages/ipykernel_launcher.py:2: DeprecationWarning: generator 'getAllImages' raised StopIteration\n",
      "  \n",
      "/usr/local/lib/python3.6/dist-packages/ipykernel_launcher.py:3: DeprecationWarning: generator 'getAllImages' raised StopIteration\n",
      "  This is separate from the ipykernel package so we can avoid doing imports until\n"
     ]
    }
   ],
   "source": [
    "a = getAllImages(DATA_PATH)\n",
    "all_frames = [str(x) for (x,_) in getAllImages(DATA_PATH)]\n",
    "all_masks = [str(x) for (_,x) in getAllImages(DATA_PATH)]"
   ]
  },
  {
   "cell_type": "code",
   "execution_count": 55,
   "metadata": {},
   "outputs": [
    {
     "name": "stdout",
     "output_type": "stream",
     "text": [
      "1020\n",
      "1020\n",
      "data_2d/Amsterdam_GE3T/100/pre/T1_34.tif\n",
      "data_2d/Amsterdam_GE3T/100/wmh_35.tif\n",
      "\n",
      "data_2d/Amsterdam_GE3T/100/pre/T1_16.tif\n",
      "data_2d/Amsterdam_GE3T/100/wmh_16.tif\n",
      "\n",
      "data_2d/Amsterdam_GE3T/100/pre/T1_17.tif\n",
      "data_2d/Amsterdam_GE3T/100/wmh_17.tif\n",
      "\n",
      "data_2d/Amsterdam_GE3T/100/pre/T1_18.tif\n",
      "data_2d/Amsterdam_GE3T/100/wmh_18.tif\n",
      "\n",
      "data_2d/Amsterdam_GE3T/100/pre/T1_19.tif\n",
      "data_2d/Amsterdam_GE3T/100/wmh_19.tif\n",
      "\n",
      "data_2d/Amsterdam_GE3T/100/pre/T1_20.tif\n",
      "data_2d/Amsterdam_GE3T/100/wmh_20.tif\n",
      "\n",
      "data_2d/Amsterdam_GE3T/100/pre/T1_21.tif\n",
      "data_2d/Amsterdam_GE3T/100/wmh_21.tif\n",
      "\n",
      "data_2d/Amsterdam_GE3T/100/pre/T1_22.tif\n",
      "data_2d/Amsterdam_GE3T/100/wmh_22.tif\n",
      "\n",
      "data_2d/Amsterdam_GE3T/100/pre/T1_23.tif\n",
      "data_2d/Amsterdam_GE3T/100/wmh_23.tif\n",
      "\n",
      "data_2d/Amsterdam_GE3T/100/pre/T1_24.tif\n",
      "data_2d/Amsterdam_GE3T/100/wmh_24.tif\n",
      "\n"
     ]
    }
   ],
   "source": [
    "print(len(all_frames))\n",
    "print(len(all_masks))\n",
    "for i in range(10):\n",
    "    print(all_frames[i])\n",
    "    print(all_masks[i])\n",
    "    print()\n",
    "\n",
    "   "
   ]
  },
  {
   "cell_type": "code",
   "execution_count": 57,
   "metadata": {},
   "outputs": [
    {
     "name": "stdout",
     "output_type": "stream",
     "text": [
      "data_2d/Amsterdam_GE3T/100/pre/T1_16.tif\n",
      "data_2d/Amsterdam_GE3T/100/.ipynb_checkpoints/wmh_16-checkpoint.tif\n",
      "\n",
      "data_2d/Amsterdam_GE3T/100/pre/T1_17.tif\n",
      "data_2d/Amsterdam_GE3T/100/wmh_16.tif\n",
      "\n",
      "data_2d/Amsterdam_GE3T/100/pre/T1_18.tif\n",
      "data_2d/Amsterdam_GE3T/100/wmh_17.tif\n",
      "\n",
      "data_2d/Amsterdam_GE3T/100/pre/T1_19.tif\n",
      "data_2d/Amsterdam_GE3T/100/wmh_18.tif\n",
      "\n",
      "data_2d/Amsterdam_GE3T/100/pre/T1_20.tif\n",
      "data_2d/Amsterdam_GE3T/100/wmh_19.tif\n",
      "\n",
      "data_2d/Amsterdam_GE3T/100/pre/T1_21.tif\n",
      "data_2d/Amsterdam_GE3T/100/wmh_20.tif\n",
      "\n",
      "data_2d/Amsterdam_GE3T/100/pre/T1_22.tif\n",
      "data_2d/Amsterdam_GE3T/100/wmh_21.tif\n",
      "\n",
      "data_2d/Amsterdam_GE3T/100/pre/T1_23.tif\n",
      "data_2d/Amsterdam_GE3T/100/wmh_22.tif\n",
      "\n",
      "data_2d/Amsterdam_GE3T/100/pre/T1_24.tif\n",
      "data_2d/Amsterdam_GE3T/100/wmh_23.tif\n",
      "\n",
      "data_2d/Amsterdam_GE3T/100/pre/T1_25.tif\n",
      "data_2d/Amsterdam_GE3T/100/wmh_24.tif\n",
      "\n"
     ]
    }
   ],
   "source": [
    "all_frames.sort(key=lambda var:[int(x) if x.isdigit() else x \n",
    "                                for x in re.findall(r'[^0-9]|[0-9]+', var)])\n",
    "all_masks.sort(key=lambda var:[int(x) if x.isdigit() else x \n",
    "                               for x in re.findall(r'[^0-9]|[0-9]+', var)])\n",
    "for i in range(10):\n",
    "    print(all_frames[i])\n",
    "    print(all_masks[i])\n",
    "    print()\n",
    "\n",
    "    \n",
    "random.seed(230)\n",
    "random.shuffle(all_frames)\n",
    "\n",
    "\n",
    "# Generate train, val, and test sets for frames\n",
    "\n",
    "train_split = int(0.7*len(all_frames))\n",
    "val_split = int(0.9 * len(all_frames))\n",
    "\n",
    "train_frames = all_frames[:train_split]\n",
    "val_frames = all_frames[train_split:val_split]\n",
    "test_frames = all_frames[val_split:]\n",
    "\n",
    "\n",
    "# Generate corresponding mask lists for masks\n",
    "\n",
    "train_masks = [f for f in all_masks if f in train_frames]\n",
    "val_masks = [f for f in all_masks if f in val_frames]\n",
    "test_masks = [f for f in all_masks if f in test_frames]"
   ]
  },
  {
   "cell_type": "code",
   "execution_count": 58,
   "metadata": {},
   "outputs": [
    {
     "ename": "FileNotFoundError",
     "evalue": "[Errno 2] No such file or directory: 'data_2d/Amsterdam_GE3Tdata_2d/Amsterdam_GE3T/107/pre/T1_53.tif'",
     "output_type": "error",
     "traceback": [
      "\u001b[0;31m---------------------------------------------------------------------------\u001b[0m",
      "\u001b[0;31mFileNotFoundError\u001b[0m                         Traceback (most recent call last)",
      "\u001b[0;32m<ipython-input-58-adfa7e770834>\u001b[0m in \u001b[0;36m<module>\u001b[0;34m\u001b[0m\n\u001b[1;32m     28\u001b[0m     \u001b[0mname\u001b[0m \u001b[0;34m=\u001b[0m \u001b[0;34m[\u001b[0m\u001b[0mfolder\u001b[0m\u001b[0;34m[\u001b[0m\u001b[0;36m1\u001b[0m\u001b[0;34m]\u001b[0m\u001b[0;34m]\u001b[0m \u001b[0;34m*\u001b[0m \u001b[0mlen\u001b[0m\u001b[0;34m(\u001b[0m\u001b[0marray\u001b[0m\u001b[0;34m)\u001b[0m\u001b[0;34m\u001b[0m\u001b[0;34m\u001b[0m\u001b[0m\n\u001b[1;32m     29\u001b[0m \u001b[0;34m\u001b[0m\u001b[0m\n\u001b[0;32m---> 30\u001b[0;31m     \u001b[0mlist\u001b[0m\u001b[0;34m(\u001b[0m\u001b[0mmap\u001b[0m\u001b[0;34m(\u001b[0m\u001b[0madd_frames\u001b[0m\u001b[0;34m,\u001b[0m \u001b[0mname\u001b[0m\u001b[0;34m,\u001b[0m \u001b[0marray\u001b[0m\u001b[0;34m)\u001b[0m\u001b[0;34m)\u001b[0m\u001b[0;34m\u001b[0m\u001b[0;34m\u001b[0m\u001b[0m\n\u001b[0m\u001b[1;32m     31\u001b[0m \u001b[0;34m\u001b[0m\u001b[0m\n\u001b[1;32m     32\u001b[0m \u001b[0;34m\u001b[0m\u001b[0m\n",
      "\u001b[0;32m<ipython-input-58-adfa7e770834>\u001b[0m in \u001b[0;36madd_frames\u001b[0;34m(dir_name, image)\u001b[0m\n\u001b[1;32m      4\u001b[0m \u001b[0;32mdef\u001b[0m \u001b[0madd_frames\u001b[0m\u001b[0;34m(\u001b[0m\u001b[0mdir_name\u001b[0m\u001b[0;34m,\u001b[0m \u001b[0mimage\u001b[0m\u001b[0;34m)\u001b[0m\u001b[0;34m:\u001b[0m\u001b[0;34m\u001b[0m\u001b[0;34m\u001b[0m\u001b[0m\n\u001b[1;32m      5\u001b[0m \u001b[0;34m\u001b[0m\u001b[0m\n\u001b[0;32m----> 6\u001b[0;31m     \u001b[0mimg\u001b[0m \u001b[0;34m=\u001b[0m \u001b[0mImage\u001b[0m\u001b[0;34m.\u001b[0m\u001b[0mopen\u001b[0m\u001b[0;34m(\u001b[0m\u001b[0mFRAME_PATH\u001b[0m\u001b[0;34m+\u001b[0m\u001b[0mimage\u001b[0m\u001b[0;34m)\u001b[0m\u001b[0;34m\u001b[0m\u001b[0;34m\u001b[0m\u001b[0m\n\u001b[0m\u001b[1;32m      7\u001b[0m     \u001b[0mimg\u001b[0m\u001b[0;34m.\u001b[0m\u001b[0msave\u001b[0m\u001b[0;34m(\u001b[0m\u001b[0mDATA_PATH\u001b[0m\u001b[0;34m+\u001b[0m\u001b[0;34m'/{}'\u001b[0m\u001b[0;34m.\u001b[0m\u001b[0mformat\u001b[0m\u001b[0;34m(\u001b[0m\u001b[0mdir_name\u001b[0m\u001b[0;34m)\u001b[0m\u001b[0;34m+\u001b[0m\u001b[0;34m'/'\u001b[0m\u001b[0;34m+\u001b[0m\u001b[0mimage\u001b[0m\u001b[0;34m)\u001b[0m\u001b[0;34m\u001b[0m\u001b[0;34m\u001b[0m\u001b[0m\n\u001b[1;32m      8\u001b[0m \u001b[0;34m\u001b[0m\u001b[0m\n",
      "\u001b[0;32m/usr/local/lib/python3.6/dist-packages/PIL/Image.py\u001b[0m in \u001b[0;36mopen\u001b[0;34m(fp, mode)\u001b[0m\n\u001b[1;32m   2632\u001b[0m \u001b[0;34m\u001b[0m\u001b[0m\n\u001b[1;32m   2633\u001b[0m     \u001b[0;32mif\u001b[0m \u001b[0mfilename\u001b[0m\u001b[0;34m:\u001b[0m\u001b[0;34m\u001b[0m\u001b[0;34m\u001b[0m\u001b[0m\n\u001b[0;32m-> 2634\u001b[0;31m         \u001b[0mfp\u001b[0m \u001b[0;34m=\u001b[0m \u001b[0mbuiltins\u001b[0m\u001b[0;34m.\u001b[0m\u001b[0mopen\u001b[0m\u001b[0;34m(\u001b[0m\u001b[0mfilename\u001b[0m\u001b[0;34m,\u001b[0m \u001b[0;34m\"rb\"\u001b[0m\u001b[0;34m)\u001b[0m\u001b[0;34m\u001b[0m\u001b[0;34m\u001b[0m\u001b[0m\n\u001b[0m\u001b[1;32m   2635\u001b[0m         \u001b[0mexclusive_fp\u001b[0m \u001b[0;34m=\u001b[0m \u001b[0;32mTrue\u001b[0m\u001b[0;34m\u001b[0m\u001b[0;34m\u001b[0m\u001b[0m\n\u001b[1;32m   2636\u001b[0m \u001b[0;34m\u001b[0m\u001b[0m\n",
      "\u001b[0;31mFileNotFoundError\u001b[0m: [Errno 2] No such file or directory: 'data_2d/Amsterdam_GE3Tdata_2d/Amsterdam_GE3T/107/pre/T1_53.tif'"
     ]
    }
   ],
   "source": [
    "#Add train, val, test frames and masks to relevant folders\n",
    "\n",
    "\n",
    "def add_frames(dir_name, image):\n",
    "  \n",
    "    img = Image.open(FRAME_PATH+image)\n",
    "    img.save(DATA_PATH+'/{}'.format(dir_name)+'/'+image)\n",
    "  \n",
    "  \n",
    "\n",
    "def add_masks(dir_name, image):  \n",
    "    img = Image.open(MASK_PATH+image)\n",
    "    img.save(DATA_PATH+'/{}'.format(dir_name)+'/'+image)\n",
    "\n",
    "\n",
    "  \n",
    "  \n",
    "frame_folders = [(train_frames, 'train_frames'), (val_frames, 'val_frames'), \n",
    "                 (test_frames, 'test_frames')]\n",
    "\n",
    "mask_folders = [(train_masks, 'train_masks'), (val_masks, 'val_masks'), \n",
    "                (test_masks, 'test_masks')]\n",
    "\n",
    "# Add frames\n",
    "\n",
    "for folder in frame_folders:\n",
    "    array = folder[0]\n",
    "    name = [folder[1]] * len(array)\n",
    "\n",
    "    list(map(add_frames, name, array))\n",
    "         \n",
    "    \n",
    "# Add masks\n",
    "\n",
    "for folder in mask_folders:\n",
    "    array = folder[0]\n",
    "    name = [folder[1]] * len(array)\n",
    "    \n",
    "    list(map(add_masks, name, array))"
   ]
  },
  {
   "cell_type": "code",
   "execution_count": null,
   "metadata": {},
   "outputs": [],
   "source": []
  }
 ],
 "metadata": {
  "kernelspec": {
   "display_name": "Python 3",
   "language": "python",
   "name": "python3"
  },
  "language_info": {
   "codemirror_mode": {
    "name": "ipython",
    "version": 3
   },
   "file_extension": ".py",
   "mimetype": "text/x-python",
   "name": "python",
   "nbconvert_exporter": "python",
   "pygments_lexer": "ipython3",
   "version": "3.6.7"
  }
 },
 "nbformat": 4,
 "nbformat_minor": 2
}
