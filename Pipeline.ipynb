{
 "cells": [
  {
   "cell_type": "markdown",
   "metadata": {},
   "source": [
    "# Pipeline setup\n",
    "\n",
    "1. Get data\n",
    "1. Preprocess\n",
    "1. Define model\n",
    "1. Train model\n",
    "1. Evaluate model\n",
    "\n"
   ]
  },
  {
   "cell_type": "code",
   "execution_count": 5,
   "metadata": {},
   "outputs": [],
   "source": [
    "import os"
   ]
  },
  {
   "cell_type": "code",
   "execution_count": 104,
   "metadata": {},
   "outputs": [
    {
     "name": "stdout",
     "output_type": "stream",
     "text": [
      "data/Utrecht/0/pre/FLAIR.nii.gz\n",
      "data/Utrecht/11/pre/FLAIR.nii.gz\n",
      "data/Utrecht/17/pre/FLAIR.nii.gz\n",
      "data/Utrecht/19/pre/FLAIR.nii.gz\n",
      "data/Utrecht/2/pre/FLAIR.nii.gz\n",
      "data/Utrecht/21/pre/FLAIR.nii.gz\n",
      "data/Utrecht/23/pre/FLAIR.nii.gz\n",
      "data/Utrecht/25/pre/FLAIR.nii.gz\n",
      "data/Utrecht/27/pre/FLAIR.nii.gz\n",
      "data/Utrecht/29/pre/FLAIR.nii.gz\n",
      "data/Utrecht/31/pre/FLAIR.nii.gz\n",
      "data/Utrecht/33/pre/FLAIR.nii.gz\n",
      "data/Utrecht/35/pre/FLAIR.nii.gz\n",
      "data/Utrecht/37/pre/FLAIR.nii.gz\n",
      "data/Utrecht/39/pre/FLAIR.nii.gz\n",
      "data/Utrecht/4/pre/FLAIR.nii.gz\n",
      "data/Utrecht/41/pre/FLAIR.nii.gz\n",
      "data/Utrecht/49/pre/FLAIR.nii.gz\n",
      "data/Utrecht/6/pre/FLAIR.nii.gz\n",
      "data/Utrecht/8/pre/FLAIR.nii.gz\n",
      "data/Amsterdam_GE3T/100/pre/FLAIR.nii.gz\n",
      "data/Amsterdam_GE3T/101/pre/FLAIR.nii.gz\n",
      "data/Amsterdam_GE3T/102/pre/FLAIR.nii.gz\n",
      "data/Amsterdam_GE3T/103/pre/FLAIR.nii.gz\n",
      "data/Amsterdam_GE3T/104/pre/FLAIR.nii.gz\n",
      "data/Amsterdam_GE3T/105/pre/FLAIR.nii.gz\n",
      "data/Amsterdam_GE3T/106/pre/FLAIR.nii.gz\n",
      "data/Amsterdam_GE3T/107/pre/FLAIR.nii.gz\n",
      "data/Amsterdam_GE3T/108/pre/FLAIR.nii.gz\n",
      "data/Amsterdam_GE3T/109/pre/FLAIR.nii.gz\n",
      "data/Amsterdam_GE3T/110/pre/FLAIR.nii.gz\n",
      "data/Amsterdam_GE3T/112/pre/FLAIR.nii.gz\n",
      "data/Amsterdam_GE3T/113/pre/FLAIR.nii.gz\n",
      "data/Amsterdam_GE3T/114/pre/FLAIR.nii.gz\n",
      "data/Amsterdam_GE3T/115/pre/FLAIR.nii.gz\n",
      "data/Amsterdam_GE3T/116/pre/FLAIR.nii.gz\n",
      "data/Amsterdam_GE3T/126/pre/FLAIR.nii.gz\n",
      "data/Amsterdam_GE3T/132/pre/FLAIR.nii.gz\n",
      "data/Amsterdam_GE3T/137/pre/FLAIR.nii.gz\n",
      "data/Amsterdam_GE3T/144/pre/FLAIR.nii.gz\n",
      "data/Singapore/50/pre/FLAIR.nii.gz\n",
      "data/Singapore/51/pre/FLAIR.nii.gz\n",
      "data/Singapore/52/pre/FLAIR.nii.gz\n",
      "data/Singapore/53/pre/FLAIR.nii.gz\n",
      "data/Singapore/54/pre/FLAIR.nii.gz\n",
      "data/Singapore/55/pre/FLAIR.nii.gz\n",
      "data/Singapore/56/pre/FLAIR.nii.gz\n",
      "data/Singapore/57/pre/FLAIR.nii.gz\n",
      "data/Singapore/58/pre/FLAIR.nii.gz\n",
      "data/Singapore/59/pre/FLAIR.nii.gz\n",
      "data/Singapore/60/pre/FLAIR.nii.gz\n",
      "data/Singapore/61/pre/FLAIR.nii.gz\n",
      "data/Singapore/62/pre/FLAIR.nii.gz\n",
      "data/Singapore/63/pre/FLAIR.nii.gz\n",
      "data/Singapore/64/pre/FLAIR.nii.gz\n",
      "data/Singapore/65/pre/FLAIR.nii.gz\n",
      "data/Singapore/66/pre/FLAIR.nii.gz\n",
      "data/Singapore/67/pre/FLAIR.nii.gz\n",
      "data/Singapore/68/pre/FLAIR.nii.gz\n",
      "data/Singapore/69/pre/FLAIR.nii.gz\n"
     ]
    }
   ],
   "source": [
    "\n",
    "data = []\n",
    "\n",
    "datasets=['data/Utrecht', 'data/Amsterdam_GE3T', 'data/Singapore']\n",
    "\n",
    "\n",
    "# file paths data/Utrecht/0/pre/FLAIR.nii.gz\n",
    "# file paths data/Utrecht/0/pre/T1.nii.gz\n",
    "# file paths data/Utrecht/0/wmh.nii.gz\n",
    "\n",
    "excluded_dirs = '.ipynb_checkpoints'\n",
    "for dataset in datasets:\n",
    "    for sample in os.listdir(dataset):\n",
    "        baseLocation = \"{}/{}\".format(dataset,sample)\n",
    "        print(\"{}/{}/pre/FLAIR.nii.gz\".format(dataset,sample))\n",
    "        data.append({\n",
    "            'location':\"{}\".format(baseLocation),\n",
    "            'flair': \"{}/pre/FLAIR.nii.gz\".format(baseLocation),\n",
    "            't1': \"{}/pre/T1.nii.gz\".format(baseLocation),\n",
    "            't13d': \"{}/pre/3DT1.nii.gz\".format(baseLocation),\n",
    "            'label':\"{}/wmh.nii.gz\".format(baseLocation)\n",
    "            \n",
    "        })"
   ]
  },
  {
   "cell_type": "markdown",
   "metadata": {},
   "source": [
    "# Preprocess data"
   ]
  },
  {
   "cell_type": "code",
   "execution_count": 105,
   "metadata": {},
   "outputs": [
    {
     "data": {
      "text/plain": [
       "{'location': 'data/Utrecht/0',\n",
       " 'flair': 'data/Utrecht/0/pre/FLAIR.nii.gz',\n",
       " 't1': 'data/Utrecht/0/pre/T1.nii.gz',\n",
       " 't13d': 'data/Utrecht/0/pre/3DT1.nii.gz',\n",
       " 'label': 'data/Utrecht/0/wmh.nii.gz'}"
      ]
     },
     "execution_count": 105,
     "metadata": {},
     "output_type": "execute_result"
    }
   ],
   "source": [
    "unit_to_use = data[0]\n",
    "\n",
    "unit_to_use"
   ]
  },
  {
   "cell_type": "code",
   "execution_count": 106,
   "metadata": {},
   "outputs": [
    {
     "data": {
      "text/plain": [
       "array([[[0, 0, 0, ..., 0, 0, 0],\n",
       "        [0, 0, 0, ..., 0, 0, 0],\n",
       "        [0, 0, 0, ..., 0, 0, 0],\n",
       "        ...,\n",
       "        [0, 0, 0, ..., 0, 0, 0],\n",
       "        [0, 0, 0, ..., 0, 0, 0],\n",
       "        [0, 0, 0, ..., 0, 0, 0]],\n",
       "\n",
       "       [[0, 0, 0, ..., 0, 0, 0],\n",
       "        [0, 0, 0, ..., 0, 0, 0],\n",
       "        [0, 0, 0, ..., 0, 0, 0],\n",
       "        ...,\n",
       "        [0, 0, 0, ..., 0, 0, 0],\n",
       "        [0, 0, 0, ..., 0, 0, 0],\n",
       "        [0, 0, 0, ..., 0, 0, 0]],\n",
       "\n",
       "       [[0, 0, 0, ..., 0, 0, 0],\n",
       "        [0, 0, 0, ..., 0, 0, 0],\n",
       "        [0, 0, 0, ..., 0, 0, 0],\n",
       "        ...,\n",
       "        [0, 0, 0, ..., 0, 0, 0],\n",
       "        [0, 0, 0, ..., 0, 0, 0],\n",
       "        [0, 0, 0, ..., 0, 0, 0]],\n",
       "\n",
       "       ...,\n",
       "\n",
       "       [[0, 0, 0, ..., 0, 0, 0],\n",
       "        [0, 0, 0, ..., 0, 0, 0],\n",
       "        [0, 0, 0, ..., 0, 0, 0],\n",
       "        ...,\n",
       "        [0, 0, 0, ..., 0, 0, 0],\n",
       "        [0, 0, 0, ..., 0, 0, 0],\n",
       "        [0, 0, 0, ..., 0, 0, 0]],\n",
       "\n",
       "       [[0, 0, 0, ..., 0, 0, 0],\n",
       "        [0, 0, 0, ..., 0, 0, 0],\n",
       "        [0, 0, 0, ..., 0, 0, 0],\n",
       "        ...,\n",
       "        [0, 0, 0, ..., 0, 0, 0],\n",
       "        [0, 0, 0, ..., 0, 0, 0],\n",
       "        [0, 0, 0, ..., 0, 0, 0]],\n",
       "\n",
       "       [[0, 0, 0, ..., 0, 0, 0],\n",
       "        [0, 0, 0, ..., 0, 0, 0],\n",
       "        [0, 0, 0, ..., 0, 0, 0],\n",
       "        ...,\n",
       "        [0, 0, 0, ..., 0, 0, 0],\n",
       "        [0, 0, 0, ..., 0, 0, 0],\n",
       "        [0, 0, 0, ..., 0, 0, 0]]], dtype=uint16)"
      ]
     },
     "execution_count": 106,
     "metadata": {},
     "output_type": "execute_result"
    }
   ],
   "source": [
    "import nibabel as nib\n",
    "nib.load(unit_to_use['t1']).get_data()\n",
    "\n"
   ]
  },
  {
   "cell_type": "code",
   "execution_count": 117,
   "metadata": {},
   "outputs": [],
   "source": [
    "from PIL import Image\n",
    "\n",
    "import glob\n",
    "def split_filename(filepath):\n",
    "    path = os.path.dirname(filepath)\n",
    "    filename = os.path.basename(filepath)\n",
    "    base, ext = os.path.splitext(filename)\n",
    "    if ext == '.gz':\n",
    "        base, ext2 = os.path.splitext(base)\n",
    "        ext = ext2 + ext\n",
    "    return path, base, ext\n",
    "\n",
    "\n",
    "def convert_to_tif(directory, axis):\n",
    "    try:\n",
    "        fns = glob.glob(os.path.join(directory, '*.nii*'))\n",
    "        for fn in fns:\n",
    "            _, base, _ = split_filename(fn)\n",
    "            img = nib.load(fn).get_data()\n",
    "            start = int(0.1 * img.shape[axis])\n",
    "            end = int(0.9 * img.shape[axis]) + 1\n",
    "            for i in range(start, end):\n",
    "                I = Image.fromarray(img[i,:,:]) if axis == 0 else \\\n",
    "                    Image.fromarray(img[:,i,:]) if axis == 1 else \\\n",
    "                    Image.fromarray(img[:,:,i])\n",
    "                I.save(os.path.join(directory, f'{base}_{i}.tif'))\n",
    "    except Exception as e:\n",
    "        print(e)\n"
   ]
  },
  {
   "cell_type": "code",
   "execution_count": 118,
   "metadata": {},
   "outputs": [
    {
     "name": "stdout",
     "output_type": "stream",
     "text": [
      "{'location': 'data/Utrecht/0', 'flair': 'data/Utrecht/0/pre/FLAIR.nii.gz', 't1': 'data/Utrecht/0/pre/T1.nii.gz', 't13d': 'data/Utrecht/0/pre/3DT1.nii.gz', 'label': 'data/Utrecht/0/wmh.nii.gz'}\n"
     ]
    }
   ],
   "source": [
    "print(unit_to_use)\n",
    "convert_to_tif(\"{}/pre\".format(unit_to_use['location']), 2)"
   ]
  },
  {
   "cell_type": "code",
   "execution_count": 96,
   "metadata": {},
   "outputs": [
    {
     "data": {
      "text/plain": [
       "['data/Utrecht/0/pre/3DT1.nii.gz',\n",
       " 'data/Utrecht/0/pre/FLAIR.nii.gz',\n",
       " 'data/Utrecht/0/pre/T1.nii.gz']"
      ]
     },
     "execution_count": 96,
     "metadata": {},
     "output_type": "execute_result"
    }
   ],
   "source": [
    "x = os.path.join(\"{}/pre\".format(unit_to_use['location']),'*.nii*')\n",
    "glob.glob(x)"
   ]
  },
  {
   "cell_type": "code",
   "execution_count": 108,
   "metadata": {},
   "outputs": [
    {
     "name": "stdout",
     "output_type": "stream",
     "text": [
      "{location: data/Utrecht/0, flair: data/Utrecht/0/pre/FLAIR.nii.gz, t1: data/Utrecht/0/pre/T1.nii.gz, t13d: data/Utrecht/0/pre/3DT1.nii.gz, label: data/Utrecht/0/wmh.nii.gz}\n"
     ]
    }
   ],
   "source": [
    "!echo $unit_to_use"
   ]
  },
  {
   "cell_type": "markdown",
   "metadata": {},
   "source": [
    "# Setup model"
   ]
  },
  {
   "cell_type": "code",
   "execution_count": 120,
   "metadata": {},
   "outputs": [
    {
     "ename": "NameError",
     "evalue": "name 'torch' is not defined",
     "output_type": "error",
     "traceback": [
      "\u001b[0;31m---------------------------------------------------------------------------\u001b[0m",
      "\u001b[0;31mNameError\u001b[0m                                 Traceback (most recent call last)",
      "\u001b[0;32m<ipython-input-120-cc227a6be522>\u001b[0m in \u001b[0;36m<module>\u001b[0;34m\u001b[0m\n\u001b[0;32m----> 1\u001b[0;31m \u001b[0mdev\u001b[0m \u001b[0;34m=\u001b[0m \u001b[0;34m\"cuda\"\u001b[0m \u001b[0;32mif\u001b[0m \u001b[0mtorch\u001b[0m\u001b[0;34m.\u001b[0m\u001b[0mcuda\u001b[0m\u001b[0;34m.\u001b[0m\u001b[0mis_available\u001b[0m\u001b[0;34m(\u001b[0m\u001b[0;34m)\u001b[0m \u001b[0;32melse\u001b[0m \u001b[0;34m\"cpu\"\u001b[0m\u001b[0;34m\u001b[0m\u001b[0;34m\u001b[0m\u001b[0m\n\u001b[0m\u001b[1;32m      2\u001b[0m \u001b[0mprint\u001b[0m\u001b[0;34m(\u001b[0m\u001b[0mdev\u001b[0m\u001b[0;34m)\u001b[0m\u001b[0;34m\u001b[0m\u001b[0;34m\u001b[0m\u001b[0m\n\u001b[1;32m      3\u001b[0m \u001b[0mdevice\u001b[0m \u001b[0;34m=\u001b[0m \u001b[0mtorch\u001b[0m\u001b[0;34m.\u001b[0m\u001b[0mdevice\u001b[0m\u001b[0;34m(\u001b[0m\u001b[0mdev\u001b[0m\u001b[0;34m)\u001b[0m\u001b[0;34m\u001b[0m\u001b[0;34m\u001b[0m\u001b[0m\n",
      "\u001b[0;31mNameError\u001b[0m: name 'torch' is not defined"
     ]
    }
   ],
   "source": [
    "\n",
    "dev = \"cuda\" if torch.cuda.is_available() else \"cpu\"\n",
    "print(dev)\n",
    "device = torch.device(dev)"
   ]
  },
  {
   "cell_type": "code",
   "execution_count": null,
   "metadata": {},
   "outputs": [],
   "source": []
  },
  {
   "cell_type": "markdown",
   "metadata": {},
   "source": [
    "# Train model\n"
   ]
  },
  {
   "cell_type": "code",
   "execution_count": null,
   "metadata": {},
   "outputs": [],
   "source": []
  },
  {
   "cell_type": "code",
   "execution_count": null,
   "metadata": {},
   "outputs": [],
   "source": []
  },
  {
   "cell_type": "markdown",
   "metadata": {},
   "source": [
    "# Evaluate"
   ]
  },
  {
   "cell_type": "code",
   "execution_count": null,
   "metadata": {},
   "outputs": [],
   "source": []
  }
 ],
 "metadata": {
  "kernelspec": {
   "display_name": "Python 3",
   "language": "python",
   "name": "python3"
  },
  "language_info": {
   "codemirror_mode": {
    "name": "ipython",
    "version": 3
   },
   "file_extension": ".py",
   "mimetype": "text/x-python",
   "name": "python",
   "nbconvert_exporter": "python",
   "pygments_lexer": "ipython3",
   "version": "3.6.8"
  }
 },
 "nbformat": 4,
 "nbformat_minor": 2
}
